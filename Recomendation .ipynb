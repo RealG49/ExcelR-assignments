{
 "cells": [
  {
   "cell_type": "code",
   "execution_count": 7,
   "id": "a8708d4c",
   "metadata": {},
   "outputs": [
    {
     "name": "stderr",
     "output_type": "stream",
     "text": [
      "C:\\Users\\Owner\\AppData\\Local\\Temp\\ipykernel_5028\\3418642018.py:10: FutureWarning: A value is trying to be set on a copy of a DataFrame or Series through chained assignment using an inplace method.\n",
      "The behavior will change in pandas 3.0. This inplace method will never work because the intermediate object on which we are setting values always behaves as a copy.\n",
      "\n",
      "For example, when doing 'df[col].method(value, inplace=True)', try using 'df.method({col: value}, inplace=True)' or df[col] = df[col].method(value) instead, to perform the operation inplace on the original object.\n",
      "\n",
      "\n",
      "  df['rating'].fillna(df['rating'].mean(), inplace=True)\n"
     ]
    },
    {
     "name": "stdout",
     "output_type": "stream",
     "text": [
      "Recommendations for Naruto:\n",
      "name\n",
      "Stella no Mahou                                1.0\n",
      "Namiuchigiwa no Muromi-san                     1.0\n",
      "Spriggan                                       1.0\n",
      "Inazuma Eleven: Saikyou Gundan Ogre Shuurai    1.0\n",
      "Inazuma Eleven: Outer Code                     1.0\n",
      "Name: Naruto, dtype: float64\n"
     ]
    }
   ],
   "source": [
    "import pandas as pd\n",
    "import numpy as np\n",
    "from sklearn.metrics.pairwise import cosine_similarity\n",
    "\n",
    "# Load dataset\n",
    "file_path = r\"C:\\Users\\Owner\\OneDrive\\Desktop\\SVM\\Recomandation system\\anime.csv\"\n",
    "df = pd.read_csv(file_path)\n",
    "\n",
    "# Fill missing values\n",
    "df['rating'].fillna(df['rating'].mean(), inplace=True)\n",
    "\n",
    "# Create item-item similarity matrix (using anime ratings)\n",
    "anime_ratings = df.pivot_table(index='name', values='rating', aggfunc='mean')\n",
    "\n",
    "# Normalize ratings for better similarity calculation\n",
    "anime_ratings = (anime_ratings - anime_ratings.mean()) / anime_ratings.std()\n",
    "\n",
    "# Compute cosine similarity between anime\n",
    "similarity_matrix = cosine_similarity(anime_ratings, anime_ratings)\n",
    "\n",
    "# Convert to DataFrame\n",
    "anime_similarity_df = pd.DataFrame(similarity_matrix, index=anime_ratings.index, columns=anime_ratings.index)\n",
    "\n",
    "# Function to recommend similar anime\n",
    "def recommend_anime(title, num_recommendations=5):\n",
    "    if title not in anime_similarity_df.index:\n",
    "        return \"Anime not found. Please check the title.\"\n",
    "    \n",
    "    similar_anime = anime_similarity_df[title].sort_values(ascending=False)[1:num_recommendations+1]\n",
    "    return similar_anime\n",
    "\n",
    "# Example recommendation\n",
    "anime_title = \"Naruto\"\n",
    "print(f\"Recommendations for {anime_title}:\")\n",
    "print(recommend_anime(anime_title, num_recommendations=5))\n"
   ]
  },
  {
   "cell_type": "code",
   "execution_count": null,
   "id": "de789849",
   "metadata": {},
   "outputs": [],
   "source": []
  }
 ],
 "metadata": {
  "kernelspec": {
   "display_name": "Python 3 (ipykernel)",
   "language": "python",
   "name": "python3"
  },
  "language_info": {
   "codemirror_mode": {
    "name": "ipython",
    "version": 3
   },
   "file_extension": ".py",
   "mimetype": "text/x-python",
   "name": "python",
   "nbconvert_exporter": "python",
   "pygments_lexer": "ipython3",
   "version": "3.11.5"
  }
 },
 "nbformat": 4,
 "nbformat_minor": 5
}
